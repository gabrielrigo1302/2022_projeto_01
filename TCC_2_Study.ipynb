{
  "cells": [
    {
      "cell_type": "markdown",
      "metadata": {
        "id": "view-in-github",
        "colab_type": "text"
      },
      "source": [
        "<a href=\"https://colab.research.google.com/github/gabrielrigo1302/2022_projeto_01/blob/main/TCC_2_Study.ipynb\" target=\"_parent\"><img src=\"https://colab.research.google.com/assets/colab-badge.svg\" alt=\"Open In Colab\"/></a>"
      ]
    },
    {
      "cell_type": "markdown",
      "metadata": {
        "id": "Ww-GAjgJoVnb"
      },
      "source": [
        "## Exploração\n"
      ]
    },
    {
      "cell_type": "code",
      "execution_count": 1,
      "metadata": {
        "colab": {
          "base_uri": "https://localhost:8080/"
        },
        "id": "qKuYFj0t1Oyv",
        "outputId": "6ab3059e-dbc6-47df-8cca-8be0331fe31a"
      },
      "outputs": [
        {
          "output_type": "stream",
          "name": "stdout",
          "text": [
            "Drive already mounted at /content/drive; to attempt to forcibly remount, call drive.mount(\"/content/drive\", force_remount=True).\n"
          ]
        }
      ],
      "source": [
        "from google.colab import drive\n",
        "drive.mount('/content/drive')"
      ]
    },
    {
      "cell_type": "code",
      "execution_count": 2,
      "metadata": {
        "id": "VqqoUHPVFlSl"
      },
      "outputs": [],
      "source": [
        "import matplotlib.pyplot as plt\n",
        "from scipy.io import loadmat\n",
        "from scipy import signal\n",
        "from scipy import stats\n",
        "import numpy as np\n",
        "from statistics import mode, median, variance\n",
        "\n",
        "\n",
        "# carregando o arquivo matlab (Exercício 1 do indivíduo 1);\n",
        "mat = loadmat('drive/MyDrive/UNISINOS/9o semestre/TCC-2/primeiro_teste/S1_A1_E1.mat')\n",
        "emg_samples = mat['emg']\n",
        "stimulus_samples = mat['stimulus']"
      ]
    },
    {
      "cell_type": "markdown",
      "metadata": {
        "id": "f_xcfRdO5KNd"
      },
      "source": [
        "# Entendendo melhor os dados\n",
        "\n",
        "Segundo o própio NINAPRO:\n",
        "\n",
        "O conjunto de dados inclui até 10 repetições de 49 movimentos manuais. Os sujeitos foram solicitados a pensar em repetir o mais naturalmente possível os movimentos que foram mostrados como filmes na tela de um laptop. O experimento é dividido em três exercícios:\n",
        "\n",
        "1.   Movimentos básicos dos dedos.\n",
        "2.   Agarrar e movimentos funcionais.\n",
        "3.   Padrões de força.\n",
        "\n",
        "*   Taxa de Amostragem dos sinais sEMG: 2KHz.\n",
        "*   Duração da Repetição do Movimento: 5s.\n",
        "*   Duração do Descanso: 3s\n",
        "\n",
        "Baseado nisso é possível concluir:\n",
        "\n",
        "São 2000 amostras por segundo (2KHz = 2000 vezes por segundo)\n",
        "São 10000 amostras de movimento (2000 amostras/s * 5 segundos)\n",
        "São 6000 amostras de descanso (2000 amostras/s * 3 segundos)\n",
        "\n",
        "No caso 10000 de movimento seguidas de 6000 de descanso"
      ]
    },
    {
      "cell_type": "code",
      "execution_count": 3,
      "metadata": {
        "id": "eQK9N2unGrkc"
      },
      "outputs": [],
      "source": [
        "# sample_items = mat.items()"
      ]
    },
    {
      "cell_type": "code",
      "execution_count": 4,
      "metadata": {
        "id": "OWTdm7SBGkgw"
      },
      "outputs": [],
      "source": [
        "# for key, value in sample_items:\n",
        "#   if key == \"subject\":\n",
        "#     print('Indivíduo: ', value);\n",
        "#   if key == \"exercise\":\n",
        "#     print('Exercício: ', value);"
      ]
    },
    {
      "cell_type": "code",
      "execution_count": 5,
      "metadata": {
        "id": "qeyoTt52IDSm"
      },
      "outputs": [],
      "source": [
        "# for key, value in sample_items:\n",
        "#   if key == \"emg\":\n",
        "#   # print('key === ', key, '\\nvalue === ', value)\n",
        "#     print('Quantidade total de elementos === ', value.size)\n",
        "#     print('Quantidade de elementos em cada dimensão === ', value.shape)\n",
        "#     print('Tipo dos dados === ', value.dtype)\n",
        "#     print('Número de dimensões === ', value.ndim)\n",
        "#   # for v in value:\n",
        "#   #   print('v === ', v)"
      ]
    },
    {
      "cell_type": "markdown",
      "metadata": {
        "id": "Kxf1rRgkH29t"
      },
      "source": [
        "# **IMPORTANTE**\n",
        "\n",
        "A partir disso é possível concluir:\n",
        "\n",
        "Nesse arquivo temos o:\n",
        "\n",
        "1o movimento, do 1o indivíduo, repetido 10 vezes, com 101014 amostras por vez"
      ]
    },
    {
      "cell_type": "code",
      "execution_count": 6,
      "metadata": {
        "colab": {
          "base_uri": "https://localhost:8080/"
        },
        "id": "xLPQrO2eZuRQ",
        "outputId": "59926412-6493-4c4d-88b0-99e79425b11e"
      },
      "outputs": [
        {
          "output_type": "stream",
          "name": "stdout",
          "text": [
            "key ==  __header__\n",
            "key ==  __version__\n",
            "key ==  __globals__\n",
            "key ==  emg\n",
            "key ==  stimulus\n",
            "key ==  glove\n",
            "key ==  subject\n",
            "key ==  exercise\n",
            "key ==  repetition\n",
            "key ==  restimulus\n",
            "key ==  rerepetition\n"
          ]
        }
      ],
      "source": [
        "for key in mat.keys():\n",
        "  print(\"key == \", key)"
      ]
    },
    {
      "cell_type": "code",
      "execution_count": 7,
      "metadata": {
        "colab": {
          "base_uri": "https://localhost:8080/"
        },
        "id": "PdERPb23z39o",
        "outputId": "1c625e2f-2f7b-48a2-b00f-21318d20552b"
      },
      "outputs": [
        {
          "output_type": "stream",
          "name": "stdout",
          "text": [
            "TESTE ==  [146. 121. 113. 128. 117.  95.  65.  97. 108.  75. 152. 110.  88.  69.\n",
            " 148. 114. 116.  83. 140. 131. 135. 115.]\n"
          ]
        }
      ],
      "source": [
        "print(\"TESTE == \", mat['glove'][0])"
      ]
    },
    {
      "cell_type": "code",
      "execution_count": 8,
      "metadata": {
        "colab": {
          "base_uri": "https://localhost:8080/",
          "height": 1000
        },
        "id": "ZiNrymDpjuFN",
        "outputId": "569ef16f-ddbb-4e3c-8976-840d1902f5d9"
      },
      "outputs": [
        {
          "output_type": "display_data",
          "data": {
            "text/plain": [
              "<Figure size 640x480 with 1 Axes>"
            ],
            "image/png": "[encoded data removed]"
          },
          "metadata": {}
        },
        {
          "output_type": "display_data",
          "data": {
            "text/plain": [
              "<Figure size 640x480 with 1 Axes>"
            ],
            "image/png": "[encoded data removed]"
          },
          "metadata": {}
        },
        {
          "output_type": "display_data",
          "data": {
            "text/plain": [
              "<Figure size 640x480 with 1 Axes>"
            ],
            "image/png": "[encoded data removed]"
          },
          "metadata": {}
        },
        {
          "output_type": "display_data",
          "data": {
            "text/plain": [
              "<Figure size 640x480 with 1 Axes>"
            ],
            "image/png": "[encoded data removed]"
          },
          "metadata": {}
        }
      ],
      "source": [
        "FIRST_SAMPLE = 0\n",
        "LAST_SAMPLE = 101014\n",
        "\n",
        "# Traçando os gráficos associados\n",
        "# stimulus: apresenta o intervalo do movimento e qual o gesto/movimento (1 a 12)\n",
        "# restimulus: apresenta o intervalo do movimento (com refinamento) e qual o movimento (1 a 12)\n",
        "# repetition: apresenta a repetição (1 a 10) do movimento x (10 repetições do movimento 1, 10 repetições do movimento 2, etc)\n",
        "\n",
        "for key in mat.keys():\n",
        "\n",
        "    if key == 'emg':\n",
        "        plt.figure()\n",
        "        plt.plot(mat['emg'])\n",
        "        plt.ylim(0, 5.0)\n",
        "        plt.ylabel('emg')\n",
        "        plt.xlabel('quantidade de amostras')\n",
        "        plt.xlim(FIRST_SAMPLE, LAST_SAMPLE)\n",
        "\n",
        "    if key == 'stimulus':\n",
        "        plt.figure()\n",
        "        plt.plot(mat['stimulus'])\n",
        "        plt.ylim(0, 13.0)\n",
        "        plt.ylabel('stimulus')\n",
        "        plt.xlabel('quantidade de amostras')\n",
        "        plt.xlim(FIRST_SAMPLE, LAST_SAMPLE)\n",
        "\n",
        "    if key == 'restimulus':\n",
        "        plt.figure()\n",
        "        plt.plot(mat['restimulus'])\n",
        "        plt.ylim(0, 13.0)\n",
        "        plt.ylabel('restimulus')\n",
        "        plt.xlabel('quantidade de amostras')\n",
        "        plt.xlim(FIRST_SAMPLE, LAST_SAMPLE)\n",
        "\n",
        "    if key == 'rerepetition':\n",
        "        plt.figure()\n",
        "        plt.plot(mat['repetition'])\n",
        "        plt.ylim(0, 11.0)\n",
        "        plt.ylabel('repetition')\n",
        "        plt.xlabel('quantidade de amostras')\n",
        "        plt.xlim(FIRST_SAMPLE, LAST_SAMPLE)\n",
        "\n",
        "\n",
        "plt.show()\n",
        "\n"
      ]
    },
    {
      "cell_type": "code",
      "execution_count": 9,
      "metadata": {
        "id": "nIlLQ1LvUTQe"
      },
      "outputs": [],
      "source": [
        "# # data = mat['emg']\n",
        "\n",
        "# colors = ['b', 'g', 'r', 'c', 'm', 'y', 'b', 'w'];\n",
        "\n",
        "# for i in range(data.shape[1]):\n",
        "#   plt.plot(data[:, i], label=f'Column {i+1}', color=colors[int(i/2)])\n",
        "#   plt.xlabel('X-axis label')\n",
        "#   plt.ylabel('Y-axis label')\n",
        "#   plt.title('Plotting MATLAB data in Python')\n",
        "#   plt.legend()\n",
        "#   plt.show()"
      ]
    },
    {
      "cell_type": "code",
      "execution_count": 10,
      "metadata": {
        "id": "NW55n2bhTqi1"
      },
      "outputs": [],
      "source": [
        "# # dados_emg = mat['emg']\n",
        "\n",
        "# # Definir variáveis\n",
        "# numero_amostras = dados_emg.shape[0]  # Quantidade total de elementos (1010140)\n",
        "# numero_repeticoes = dados_emg.shape[1]  # Quantidade de repetições (10)\n",
        "\n",
        "# # Criar array de índices das amostras\n",
        "# indices_amostras = np.arange(numero_amostras)\n",
        "\n",
        "# # Plotar as amostras em sequência\n",
        "# for i in range(numero_repeticoes):\n",
        "#     # Definir cor da repetição\n",
        "#     cor = plt.cm.Spectral(i / numero_repeticoes)\n",
        "\n",
        "#     # Plotar a repetição atual com pontos sem sobreposição\n",
        "#     plt.scatter(indices_amostras + i * numero_amostras, dados_emg[:, i], s=1, alpha=0.7, color=cor, label=f'Repetição {i + 1}')\n",
        "\n",
        "# # Ajustar escala do eixo X\n",
        "# plt.xlim(0, numero_amostras)\n",
        "\n",
        "# # Definir rótulos dos eixos\n",
        "# plt.xlabel('Amostra')\n",
        "# plt.ylabel('Valor EMG (μV)')\n",
        "\n",
        "# # Adicionar legenda\n",
        "# plt.legend(loc='best')\n",
        "\n",
        "# # Ajustar tamanho da figura\n",
        "# plt.figure(figsize=(50, 50))\n",
        "\n",
        "# # Mostrar o gráfico\n",
        "# plt.show()"
      ]
    },
    {
      "cell_type": "code",
      "execution_count": 11,
      "metadata": {
        "id": "20JdL_NQgG8z"
      },
      "outputs": [],
      "source": [
        "# a = 101014/2000\n",
        "# print('Tempo levado para buscar todas as amostras de uma repetição  === ', a)"
      ]
    },
    {
      "cell_type": "code",
      "execution_count": 12,
      "metadata": {
        "id": "C-JDHT0BaHUf"
      },
      "outputs": [],
      "source": [
        "# # Carregar os dados do arquivo .mat\n",
        "# # dados_emg = mat['emg']\n",
        "\n",
        "# # Definir variáveis\n",
        "# numero_amostras = dados_emg.shape[0]  # Quantidade total de elementos (1010140)\n",
        "# numero_repeticoes = dados_emg.shape[1]  # Quantidade de repetições (10)\n",
        "\n",
        "# for i in range(numero_repeticoes):\n",
        "#     # Definir a cor da repetição\n",
        "#     cor = plt.cm.Spectral(i / numero_repeticoes)\n",
        "\n",
        "#     # Plotar a repetição atual\n",
        "#     plt.plot(dados_emg[:, i], color=cor, label=f'Repetição {i + 1}')\n",
        "\n",
        "# # Definir rótulos dos eixos\n",
        "# plt.xlabel('Amostra')\n",
        "# plt.ylabel('Valor EMG (μV)')\n",
        "\n",
        "# # Adicionar legenda\n",
        "# plt.legend()\n",
        "\n",
        "# # Mostrar o gráfico\n",
        "# plt.show()"
      ]
    },
    {
      "cell_type": "markdown",
      "metadata": {
        "id": "Q-E7Vje9oir7"
      },
      "source": [
        "Filtro ButterWorth passa-baixa de primeira ordem,  com frequência de corte de 1Hz\n",
        "\n",
        "Não parece estar funcionando corretamente"
      ]
    },
    {
      "cell_type": "code",
      "execution_count": 13,
      "metadata": {
        "id": "cMHzcyY-0_-n"
      },
      "outputs": [],
      "source": [
        "# # Definindo a frequência de corte em Hz\n",
        "# cutoff_frequency = 1.0\n",
        "# # Convertendo a frequência de corte para radianos por segundo\n",
        "# # frequência de corte em radianos por segundo = 2 * PI * frequência de corte\n",
        "# radians_cutoff_frequency = 2 * np.pi * cutoff_frequency\n",
        "\n",
        "# # Criando a função de transferência do filtro passa-baixa de Butterworth de primeira ordem\n",
        "# # H(s) = 1/[1+(s/2PI)] !Verificar\n",
        "\n",
        "# numerator = [1]\n",
        "# denominator = [1, radians_cutoff_frequency]\n",
        "\n",
        "# b, a = signal.butter(1, 0.01, btype='low', analog=False) # Ajustar esses parâmetros\n",
        "\n",
        "# dados_emg_filtrados = np.zeros_like(dados_emg)\n",
        "\n",
        "# for i in range(numero_repeticoes):\n",
        "#     dados_emg_filtrados[:, i] = signal.lfilter(b, a, dados_emg[:, i])"
      ]
    },
    {
      "cell_type": "code",
      "execution_count": 14,
      "metadata": {
        "id": "ziYVJrYmiBS9"
      },
      "outputs": [],
      "source": [
        "# plt.plot(dados_emg[:, 0], label='Sinal original')\n",
        "# plt.xlabel('Amostras')\n",
        "# plt.ylabel('Valor EMG (μV)')\n",
        "# plt.legend()\n",
        "# plt.title('Sinal EMG Original vs. Filtrado (1 Hz)')\n",
        "\n",
        "# plt.plot(dados_emg_filtrados[:, 0], label='Sinal filtrado')\n",
        "# plt.ylim(0, 2.5)\n",
        "# plt.xlabel('Amostras')\n",
        "# plt.ylabel('Valor EMG (μV)')\n",
        "# plt.legend()\n",
        "# plt.title('Sinal EMG Original vs. Filtrado (1 Hz)')\n",
        "\n",
        "# plt.show()"
      ]
    },
    {
      "cell_type": "markdown",
      "metadata": {
        "id": "ndvkUtVelaud"
      },
      "source": [
        "# SEPARAÇÃO TESTE TREINO\n",
        "\n",
        "avaliar se é melhor:\n",
        "\n",
        "stimulus e repetição ou\n",
        "restimulus e rerepetição"
      ]
    },
    {
      "cell_type": "code",
      "execution_count": 15,
      "metadata": {
        "id": "VaMZTPlZYkmM"
      },
      "outputs": [],
      "source": [
        "import random"
      ]
    },
    {
      "cell_type": "code",
      "execution_count": 16,
      "metadata": {
        "id": "60IFlkkHlaAH"
      },
      "outputs": [],
      "source": [
        "def get_stimulus_ranges(samples, number_of_movements):\n",
        "  response = [{\n",
        "    'stimulus': 0,\n",
        "    'first_index': 0,\n",
        "    'last_index': 0,\n",
        "    'repetitions': [],\n",
        "  } for _ in range(number_of_movements)]\n",
        "\n",
        "  previous_stimulus = samples[0]\n",
        "  last_change_index = 0\n",
        "\n",
        "  for sample_index in range(len(samples)):\n",
        "    actual_stimulus = samples[sample_index][0]\n",
        "\n",
        "    #validando se o próximo index não estoura o array\n",
        "    if (sample_index + 1 < len(samples)):\n",
        "      next_stimulus = samples[sample_index + 1][0]\n",
        "\n",
        "      #valida se o stimulus atual é diferente do próximo e se o próximo é zero\n",
        "      if (actual_stimulus != next_stimulus and next_stimulus == 0):\n",
        "        #salva o index do  stimulus que vem antes de um stimulus 0\n",
        "        last_change_index = sample_index\n",
        "\n",
        "    if (actual_stimulus != previous_stimulus):\n",
        "\n",
        "      if (actual_stimulus != 0):\n",
        "        response[actual_stimulus-1]['stimulus'] = actual_stimulus\n",
        "        response[actual_stimulus-1]['stimulus'] = actual_stimulus\n",
        "        response[actual_stimulus-1]['first_index'] = sample_index\n",
        "        previous_stimulus = actual_stimulus\n",
        "\n",
        "      if (actual_stimulus > 1):\n",
        "        response[actual_stimulus-2]['last_index'] = last_change_index\n",
        "\n",
        "    if (sample_index + 1 == len(samples)):\n",
        "      response[actual_stimulus-1]['last_index'] = last_change_index\n",
        "\n",
        "  return response\n"
      ]
    },
    {
      "cell_type": "code",
      "execution_count": 17,
      "metadata": {
        "id": "2zgWWhvlz3F4"
      },
      "outputs": [],
      "source": [
        "#!APENAS PARA TESTE = Valida quais números tem entre cada um dos ranges\n",
        "def test_get_stimulus_ranges(samples, ranges):\n",
        "  matched_values = []\n",
        "  stimulus_index = 0\n",
        "  sample_index = ranges[0]['first_index']\n",
        "\n",
        "  while (sample_index <= ranges[len(ranges) - 1]['last_index']):\n",
        "    if  (ranges[stimulus_index]['last_index'] < sample_index):\n",
        "      # print('last_index = ', sample_index-1)\n",
        "      stimulus_index += 1\n",
        "      sample_index = ranges[stimulus_index]['first_index']\n",
        "      matched_values = []\n",
        "      # print('first_index = ', sample_index)\n",
        "\n",
        "    if (samples[sample_index] not in matched_values):\n",
        "      # print(samples[sample_index])\n",
        "      matched_values.append(samples[sample_index])\n",
        "\n",
        "    else:\n",
        "      sample_index += 1;"
      ]
    },
    {
      "cell_type": "code",
      "execution_count": 18,
      "metadata": {
        "id": "NCuN0pIomUin"
      },
      "outputs": [],
      "source": [
        "mat = loadmat('drive/MyDrive/UNISINOS/9o semestre/TCC-2/primeiro_teste/S1_A1_E1.mat')\n",
        "stimulus_samples = mat['stimulus']\n",
        "\n",
        "stimulus_ranges = get_stimulus_ranges(stimulus_samples, 12)\n",
        "\n",
        "# for stimulus_range in stimulus_ranges:\n",
        "#   print(stimulus_range);\n",
        "\n"
      ]
    },
    {
      "cell_type": "code",
      "execution_count": 19,
      "metadata": {
        "id": "pI_CGLuBEQlC"
      },
      "outputs": [],
      "source": [
        "mat = loadmat('drive/MyDrive/UNISINOS/9o semestre/TCC-2/primeiro_teste/S1_A1_E1.mat')\n",
        "stimulus_samples = mat['stimulus']\n",
        "\n",
        "stimulus_ranges = test_get_stimulus_ranges(stimulus_samples, stimulus_ranges)"
      ]
    },
    {
      "cell_type": "code",
      "execution_count": 20,
      "metadata": {
        "id": "vb5qURRPCE5P"
      },
      "outputs": [],
      "source": [
        "def split_repetition (stimulus_ranges_splited, s_samples, r_samples, repetition_quantity, train_mock):\n",
        "  repetitions_numbers = [index for index in range(repetition_quantity)]\n",
        "\n",
        "  random_values = train_mock\n",
        "\n",
        "  for stimulus_range in stimulus_ranges_splited:\n",
        "    #Como é crescente só preciso armazenar o último valor\n",
        "    last_matched_repetition = 0\n",
        "    repetitions = [{\n",
        "      'repetition': index + 1,\n",
        "      'train': index in random_values,\n",
        "      'first_index': 0,\n",
        "      'last_index': 0\n",
        "    } for index in range(repetition_quantity)]\n",
        "\n",
        "\n",
        "    for index in range(int(stimulus_range['first_index']), len(s_samples)):\n",
        "      if (stimulus_range['last_index'] < index):\n",
        "        repetitions[int(r_samples[index])-1]['last_index'] = index - 1\n",
        "        break\n",
        "\n",
        "      elif (s_samples[index] !=0):\n",
        "        if (r_samples[index] != last_matched_repetition):\n",
        "          # repetition[]\n",
        "          # print(s_samples[index], r_samples[index])\n",
        "          last_matched_repetition = r_samples[index]\n",
        "          repetitions[int(r_samples[index])-1]['first_index'] = index\n",
        "          # print(repetitions[int(r_samples[index])-1])\n",
        "\n",
        "        elif (r_samples[index+1] == 0):\n",
        "          repetitions[int(r_samples[index])-1]['last_index'] = index\n",
        "\n",
        "\n",
        "    stimulus_range['repetitions']=repetitions\n",
        "\n",
        "  return stimulus_ranges_splited\n",
        "\n",
        "\n",
        "\n"
      ]
    },
    {
      "cell_type": "code",
      "execution_count": 21,
      "metadata": {
        "colab": {
          "base_uri": "https://localhost:8080/"
        },
        "id": "tdHpYpS_1lzs",
        "outputId": "2dddaaa7-e602-4d53-ffcf-141d54c9de50"
      },
      "outputs": [
        {
          "output_type": "stream",
          "name": "stderr",
          "text": [
            "<ipython-input-20-cc8d8dd8c5bc>:27: DeprecationWarning: Conversion of an array with ndim > 0 to a scalar is deprecated, and will error in future. Ensure you extract a single element from your array before performing this operation. (Deprecated NumPy 1.25.)\n",
            "  repetitions[int(r_samples[index])-1]['first_index'] = index\n",
            "<ipython-input-20-cc8d8dd8c5bc>:31: DeprecationWarning: Conversion of an array with ndim > 0 to a scalar is deprecated, and will error in future. Ensure you extract a single element from your array before performing this operation. (Deprecated NumPy 1.25.)\n",
            "  repetitions[int(r_samples[index])-1]['last_index'] = index\n",
            "<ipython-input-20-cc8d8dd8c5bc>:19: DeprecationWarning: Conversion of an array with ndim > 0 to a scalar is deprecated, and will error in future. Ensure you extract a single element from your array before performing this operation. (Deprecated NumPy 1.25.)\n",
            "  repetitions[int(r_samples[index])-1]['last_index'] = index - 1\n"
          ]
        },
        {
          "output_type": "stream",
          "name": "stdout",
          "text": [
            "stimulus ==  1\n",
            "first_index ==  333\n",
            "last_index ==  8378\n",
            "\n",
            "r ==  {'repetition': 1, 'train': True, 'first_index': 333, 'last_index': 848}\n",
            "r ==  {'repetition': 2, 'train': False, 'first_index': 1169, 'last_index': 1684}\n",
            "r ==  {'repetition': 3, 'train': True, 'first_index': 2009, 'last_index': 2525}\n",
            "r ==  {'repetition': 4, 'train': True, 'first_index': 2846, 'last_index': 3357}\n",
            "r ==  {'repetition': 5, 'train': False, 'first_index': 3682, 'last_index': 4197}\n",
            "r ==  {'repetition': 6, 'train': True, 'first_index': 4518, 'last_index': 5029}\n",
            "r ==  {'repetition': 7, 'train': True, 'first_index': 5351, 'last_index': 5866}\n",
            "r ==  {'repetition': 8, 'train': False, 'first_index': 6195, 'last_index': 6706}\n",
            "r ==  {'repetition': 9, 'train': True, 'first_index': 7027, 'last_index': 7542}\n",
            "r ==  {'repetition': 10, 'train': True, 'first_index': 7863, 'last_index': 8378}\n",
            "\n",
            "stimulus ==  2\n",
            "first_index ==  8700\n",
            "last_index ==  16765\n",
            "\n",
            "r ==  {'repetition': 1, 'train': True, 'first_index': 8700, 'last_index': 9215}\n",
            "r ==  {'repetition': 2, 'train': False, 'first_index': 9536, 'last_index': 10051}\n",
            "r ==  {'repetition': 3, 'train': True, 'first_index': 10376, 'last_index': 10891}\n",
            "r ==  {'repetition': 4, 'train': True, 'first_index': 11212, 'last_index': 11728}\n",
            "r ==  {'repetition': 5, 'train': False, 'first_index': 12049, 'last_index': 12568}\n",
            "r ==  {'repetition': 6, 'train': True, 'first_index': 12893, 'last_index': 13412}\n",
            "r ==  {'repetition': 7, 'train': True, 'first_index': 13737, 'last_index': 14252}\n",
            "r ==  {'repetition': 8, 'train': False, 'first_index': 14573, 'last_index': 15089}\n",
            "r ==  {'repetition': 9, 'train': True, 'first_index': 15410, 'last_index': 15929}\n",
            "r ==  {'repetition': 10, 'train': True, 'first_index': 16250, 'last_index': 16765}\n",
            "\n",
            "stimulus ==  3\n",
            "first_index ==  17086\n",
            "last_index ==  25152\n",
            "\n",
            "r ==  {'repetition': 1, 'train': True, 'first_index': 17086, 'last_index': 17601}\n",
            "r ==  {'repetition': 2, 'train': False, 'first_index': 17927, 'last_index': 18442}\n",
            "r ==  {'repetition': 3, 'train': True, 'first_index': 18767, 'last_index': 19282}\n",
            "r ==  {'repetition': 4, 'train': True, 'first_index': 19603, 'last_index': 20118}\n",
            "r ==  {'repetition': 5, 'train': False, 'first_index': 20443, 'last_index': 20959}\n",
            "r ==  {'repetition': 6, 'train': True, 'first_index': 21284, 'last_index': 21799}\n",
            "r ==  {'repetition': 7, 'train': True, 'first_index': 22124, 'last_index': 22639}\n",
            "r ==  {'repetition': 8, 'train': False, 'first_index': 22964, 'last_index': 23479}\n",
            "r ==  {'repetition': 9, 'train': True, 'first_index': 23804, 'last_index': 24316}\n",
            "r ==  {'repetition': 10, 'train': True, 'first_index': 24637, 'last_index': 25152}\n",
            "\n",
            "stimulus ==  4\n",
            "first_index ==  25473\n",
            "last_index ==  33555\n",
            "\n",
            "r ==  {'repetition': 1, 'train': True, 'first_index': 25473, 'last_index': 25992}\n",
            "r ==  {'repetition': 2, 'train': False, 'first_index': 26313, 'last_index': 26828}\n",
            "r ==  {'repetition': 3, 'train': True, 'first_index': 27154, 'last_index': 27673}\n",
            "r ==  {'repetition': 4, 'train': True, 'first_index': 27998, 'last_index': 28513}\n",
            "r ==  {'repetition': 5, 'train': False, 'first_index': 28834, 'last_index': 29353}\n",
            "r ==  {'repetition': 6, 'train': True, 'first_index': 29682, 'last_index': 30198}\n",
            "r ==  {'repetition': 7, 'train': True, 'first_index': 30519, 'last_index': 31034}\n",
            "r ==  {'repetition': 8, 'train': False, 'first_index': 31359, 'last_index': 31874}\n",
            "r ==  {'repetition': 9, 'train': True, 'first_index': 32199, 'last_index': 32714}\n",
            "r ==  {'repetition': 10, 'train': True, 'first_index': 33040, 'last_index': 33555}\n",
            "\n",
            "stimulus ==  5\n",
            "first_index ==  33880\n",
            "last_index ==  41953\n",
            "\n",
            "r ==  {'repetition': 1, 'train': True, 'first_index': 33880, 'last_index': 34395}\n",
            "r ==  {'repetition': 2, 'train': False, 'first_index': 34716, 'last_index': 35231}\n",
            "r ==  {'repetition': 3, 'train': True, 'first_index': 35556, 'last_index': 36071}\n",
            "r ==  {'repetition': 4, 'train': True, 'first_index': 36397, 'last_index': 36920}\n",
            "r ==  {'repetition': 5, 'train': False, 'first_index': 37241, 'last_index': 37756}\n",
            "r ==  {'repetition': 6, 'train': True, 'first_index': 38077, 'last_index': 38592}\n",
            "r ==  {'repetition': 7, 'train': True, 'first_index': 38917, 'last_index': 39433}\n",
            "r ==  {'repetition': 8, 'train': False, 'first_index': 39758, 'last_index': 40273}\n",
            "r ==  {'repetition': 9, 'train': True, 'first_index': 40598, 'last_index': 41113}\n",
            "r ==  {'repetition': 10, 'train': True, 'first_index': 41434, 'last_index': 41953}\n",
            "\n",
            "stimulus ==  6\n",
            "first_index ==  42275\n",
            "last_index ==  50340\n",
            "\n",
            "r ==  {'repetition': 1, 'train': True, 'first_index': 42275, 'last_index': 42794}\n",
            "r ==  {'repetition': 2, 'train': False, 'first_index': 43115, 'last_index': 43630}\n",
            "r ==  {'repetition': 3, 'train': True, 'first_index': 43955, 'last_index': 44470}\n",
            "r ==  {'repetition': 4, 'train': True, 'first_index': 44795, 'last_index': 45311}\n",
            "r ==  {'repetition': 5, 'train': False, 'first_index': 45636, 'last_index': 46151}\n",
            "r ==  {'repetition': 6, 'train': True, 'first_index': 46472, 'last_index': 46987}\n",
            "r ==  {'repetition': 7, 'train': True, 'first_index': 47312, 'last_index': 47827}\n",
            "r ==  {'repetition': 8, 'train': False, 'first_index': 48148, 'last_index': 48664}\n",
            "r ==  {'repetition': 9, 'train': True, 'first_index': 48985, 'last_index': 49504}\n",
            "r ==  {'repetition': 10, 'train': True, 'first_index': 49825, 'last_index': 50340}\n",
            "\n",
            "stimulus ==  7\n",
            "first_index ==  50661\n",
            "last_index ==  58747\n",
            "\n",
            "r ==  {'repetition': 1, 'train': True, 'first_index': 50661, 'last_index': 51176}\n",
            "r ==  {'repetition': 2, 'train': False, 'first_index': 51501, 'last_index': 52017}\n",
            "r ==  {'repetition': 3, 'train': True, 'first_index': 52342, 'last_index': 52861}\n",
            "r ==  {'repetition': 4, 'train': True, 'first_index': 53186, 'last_index': 53701}\n",
            "r ==  {'repetition': 5, 'train': False, 'first_index': 54026, 'last_index': 54541}\n",
            "r ==  {'repetition': 6, 'train': True, 'first_index': 54866, 'last_index': 55386}\n",
            "r ==  {'repetition': 7, 'train': True, 'first_index': 55707, 'last_index': 56222}\n",
            "r ==  {'repetition': 8, 'train': False, 'first_index': 56547, 'last_index': 57062}\n",
            "r ==  {'repetition': 9, 'train': True, 'first_index': 57391, 'last_index': 57906}\n",
            "r ==  {'repetition': 10, 'train': True, 'first_index': 58231, 'last_index': 58747}\n",
            "\n",
            "stimulus ==  8\n",
            "first_index ==  59072\n",
            "last_index ==  67161\n",
            "\n",
            "r ==  {'repetition': 1, 'train': True, 'first_index': 59072, 'last_index': 59587}\n",
            "r ==  {'repetition': 2, 'train': False, 'first_index': 59912, 'last_index': 60431}\n",
            "r ==  {'repetition': 3, 'train': True, 'first_index': 60756, 'last_index': 61271}\n",
            "r ==  {'repetition': 4, 'train': True, 'first_index': 61601, 'last_index': 62120}\n",
            "r ==  {'repetition': 5, 'train': False, 'first_index': 62445, 'last_index': 62960}\n",
            "r ==  {'repetition': 6, 'train': True, 'first_index': 63281, 'last_index': 63796}\n",
            "r ==  {'repetition': 7, 'train': True, 'first_index': 64121, 'last_index': 64636}\n",
            "r ==  {'repetition': 8, 'train': False, 'first_index': 64962, 'last_index': 65481}\n",
            "r ==  {'repetition': 9, 'train': True, 'first_index': 65806, 'last_index': 66321}\n",
            "r ==  {'repetition': 10, 'train': True, 'first_index': 66646, 'last_index': 67161}\n",
            "\n",
            "stimulus ==  9\n",
            "first_index ==  67486\n",
            "last_index ==  75520\n",
            "\n",
            "r ==  {'repetition': 1, 'train': True, 'first_index': 67486, 'last_index': 67997}\n",
            "r ==  {'repetition': 2, 'train': False, 'first_index': 68318, 'last_index': 68830}\n",
            "r ==  {'repetition': 3, 'train': True, 'first_index': 69151, 'last_index': 69666}\n",
            "r ==  {'repetition': 4, 'train': True, 'first_index': 69991, 'last_index': 70506}\n",
            "r ==  {'repetition': 5, 'train': False, 'first_index': 70831, 'last_index': 71346}\n",
            "r ==  {'repetition': 6, 'train': True, 'first_index': 71667, 'last_index': 72179}\n",
            "r ==  {'repetition': 7, 'train': True, 'first_index': 72504, 'last_index': 73015}\n",
            "r ==  {'repetition': 8, 'train': False, 'first_index': 73340, 'last_index': 73851}\n",
            "r ==  {'repetition': 9, 'train': True, 'first_index': 74176, 'last_index': 74687}\n",
            "r ==  {'repetition': 10, 'train': True, 'first_index': 75008, 'last_index': 75520}\n",
            "\n",
            "stimulus ==  10\n",
            "first_index ==  75845\n",
            "last_index ==  83890\n",
            "\n",
            "r ==  {'repetition': 1, 'train': True, 'first_index': 75845, 'last_index': 76356}\n",
            "r ==  {'repetition': 2, 'train': False, 'first_index': 76681, 'last_index': 77192}\n",
            "r ==  {'repetition': 3, 'train': True, 'first_index': 77517, 'last_index': 78028}\n",
            "r ==  {'repetition': 4, 'train': True, 'first_index': 78353, 'last_index': 78865}\n",
            "r ==  {'repetition': 5, 'train': False, 'first_index': 79186, 'last_index': 79697}\n",
            "r ==  {'repetition': 6, 'train': True, 'first_index': 80022, 'last_index': 80533}\n",
            "r ==  {'repetition': 7, 'train': True, 'first_index': 80858, 'last_index': 81373}\n",
            "r ==  {'repetition': 8, 'train': False, 'first_index': 81699, 'last_index': 82214}\n",
            "r ==  {'repetition': 9, 'train': True, 'first_index': 82539, 'last_index': 83054}\n",
            "r ==  {'repetition': 10, 'train': True, 'first_index': 83375, 'last_index': 83890}\n",
            "\n",
            "stimulus ==  11\n",
            "first_index ==  84215\n",
            "last_index ==  92289\n",
            "\n",
            "r ==  {'repetition': 1, 'train': True, 'first_index': 84215, 'last_index': 84730}\n",
            "r ==  {'repetition': 2, 'train': False, 'first_index': 85056, 'last_index': 85571}\n",
            "r ==  {'repetition': 3, 'train': True, 'first_index': 85896, 'last_index': 86411}\n",
            "r ==  {'repetition': 4, 'train': True, 'first_index': 86736, 'last_index': 87251}\n",
            "r ==  {'repetition': 5, 'train': False, 'first_index': 87572, 'last_index': 88092}\n",
            "r ==  {'repetition': 6, 'train': True, 'first_index': 88417, 'last_index': 88932}\n",
            "r ==  {'repetition': 7, 'train': True, 'first_index': 89257, 'last_index': 89772}\n",
            "r ==  {'repetition': 8, 'train': False, 'first_index': 90097, 'last_index': 90612}\n",
            "r ==  {'repetition': 9, 'train': True, 'first_index': 90937, 'last_index': 91453}\n",
            "r ==  {'repetition': 10, 'train': True, 'first_index': 91774, 'last_index': 92289}\n",
            "\n",
            "stimulus ==  12\n",
            "first_index ==  92614\n",
            "last_index ==  100687\n",
            "\n",
            "r ==  {'repetition': 1, 'train': True, 'first_index': 92614, 'last_index': 93129}\n",
            "r ==  {'repetition': 2, 'train': False, 'first_index': 93454, 'last_index': 93973}\n",
            "r ==  {'repetition': 3, 'train': True, 'first_index': 94294, 'last_index': 94810}\n",
            "r ==  {'repetition': 4, 'train': True, 'first_index': 95135, 'last_index': 95650}\n",
            "r ==  {'repetition': 5, 'train': False, 'first_index': 95975, 'last_index': 96494}\n",
            "r ==  {'repetition': 6, 'train': True, 'first_index': 96815, 'last_index': 97330}\n",
            "r ==  {'repetition': 7, 'train': True, 'first_index': 97652, 'last_index': 98167}\n",
            "r ==  {'repetition': 8, 'train': False, 'first_index': 98492, 'last_index': 99007}\n",
            "r ==  {'repetition': 9, 'train': True, 'first_index': 99328, 'last_index': 99843}\n",
            "r ==  {'repetition': 10, 'train': True, 'first_index': 100168, 'last_index': 100687}\n",
            "\n"
          ]
        }
      ],
      "source": [
        "mat = loadmat('drive/MyDrive/UNISINOS/9o semestre/TCC-2/primeiro_teste/S1_A1_E1.mat')\n",
        "stimulus_samples = mat['stimulus']\n",
        "repetition_samples = mat['repetition']\n",
        "\n",
        "stimulus_ranges = get_stimulus_ranges(stimulus_samples, 12)\n",
        "\n",
        "stimulus_ranges_with_repetition = split_repetition(stimulus_ranges, stimulus_samples, repetition_samples, 10, [0, 2, 3, 5, 6, 8, 9])\n",
        "\n",
        "for s in stimulus_ranges_with_repetition:\n",
        "  print('stimulus == ', s['stimulus'])\n",
        "  print('first_index == ', s['first_index'])\n",
        "  print('last_index == ', s['last_index'])\n",
        "  print()\n",
        "  for r in s['repetitions']:\n",
        "    print('r == ', r)\n",
        "  print()"
      ]
    },
    {
      "cell_type": "markdown",
      "metadata": {
        "id": "z9ZoXUXNvneC"
      },
      "source": [
        "# JANELAMENTO"
      ]
    },
    {
      "cell_type": "code",
      "execution_count": 22,
      "metadata": {
        "id": "Nqe7bTlANLtK"
      },
      "outputs": [],
      "source": [
        "mat = loadmat('drive/MyDrive/UNISINOS/9o semestre/TCC-2/primeiro_teste/S1_A1_E1.mat')\n",
        "emg = mat['emg']\n",
        "stimulus_samples = mat['stimulus']\n",
        "repetition_samples = mat['repetition']"
      ]
    },
    {
      "cell_type": "code",
      "execution_count": 23,
      "metadata": {
        "id": "vft6H6mIy6i3"
      },
      "outputs": [],
      "source": [
        "#JANELAS tem que ser do mesmo movimento\n",
        "#samples = amostras\n",
        "#frequency = frequência de amostragem das amostras em Hertz(x amostras por segundo na prática)\n",
        "#window_size = tamanho da janela em segundos\n",
        "#gap = deslocamento das janelas em segundos\n",
        "def windowing(emg_samples, stimulus_ranges, sensors_quantity: int, frequency: float, window_size: float, gap: float):\n",
        "  features_per_window = frequency * window_size\n",
        "  features_per_gap = frequency * gap\n",
        "  all_windows_by_sensors_test = [{\n",
        "    'sensor': index + 1,\n",
        "    'windows': []\n",
        "  } for index in range(sensors_quantity)]\n",
        "\n",
        "  all_windows_by_sensors_train = [{\n",
        "    'sensor': index + 1,\n",
        "    'windows': []\n",
        "  } for index in range(sensors_quantity)]\n",
        "\n",
        "  # Por conta de como funciona aqui, não é possível validar com algo que não comece do inicío do array (vai acabar atribuindo stimulus 1 para o primeiro item que não é necessariamente o primeiro)\n",
        "  for stimulus_range in stimulus_ranges:\n",
        "    for repetition in stimulus_range['repetitions']:\n",
        "      first_index = repetition['first_index']\n",
        "      last_index = repetition['last_index']\n",
        "      step = int(features_per_window - features_per_gap)\n",
        "\n",
        "      if (first_index >= len(emg_samples)):\n",
        "        break;\n",
        "      else:\n",
        "        for window_first_index in range(first_index, last_index, step):\n",
        "          windows_by_sensors = [[] for _ in range(sensors_quantity)]\n",
        "\n",
        "          for emg_index in range(window_first_index, window_first_index + int(features_per_window)):\n",
        "            if (emg_index >= len(emg_samples)):\n",
        "              break;\n",
        "\n",
        "            else:\n",
        "              for sensor_index in range(len(emg_samples[emg_index])):\n",
        "                windows_by_sensors[sensor_index].append(emg_samples[emg_index][sensor_index])\n",
        "\n",
        "          for sensor_index in range(len(windows_by_sensors)):\n",
        "            if (len(windows_by_sensors[sensor_index]) >= 1):\n",
        "              # if (first_index >= 8700):\n",
        "              #   print('repetition == ', repetition)\n",
        "              #   print('stimulus_range == ', stimulus_range)\n",
        "\n",
        "              if (repetition['train'] == True):\n",
        "                all_windows_by_sensors_train[sensor_index]['windows'].append({\n",
        "                  'stimulus': stimulus_range['stimulus'],\n",
        "                  'window': windows_by_sensors[sensor_index]\n",
        "                })\n",
        "              else:\n",
        "                all_windows_by_sensors_test[sensor_index]['windows'].append({\n",
        "                  'stimulus': stimulus_range['stimulus'],\n",
        "                  'window': windows_by_sensors[sensor_index]\n",
        "                })\n",
        "\n",
        "  return [all_windows_by_sensors_train, all_windows_by_sensors_test]\n"
      ]
    },
    {
      "cell_type": "code",
      "execution_count": 24,
      "metadata": {
        "colab": {
          "base_uri": "https://localhost:8080/"
        },
        "id": "X-ofUsnK0efp",
        "outputId": "cdc5189e-f815-4571-9149-8109322b8572"
      },
      "outputs": [
        {
          "output_type": "stream",
          "name": "stderr",
          "text": [
            "<ipython-input-20-cc8d8dd8c5bc>:27: DeprecationWarning: Conversion of an array with ndim > 0 to a scalar is deprecated, and will error in future. Ensure you extract a single element from your array before performing this operation. (Deprecated NumPy 1.25.)\n",
            "  repetitions[int(r_samples[index])-1]['first_index'] = index\n",
            "<ipython-input-20-cc8d8dd8c5bc>:31: DeprecationWarning: Conversion of an array with ndim > 0 to a scalar is deprecated, and will error in future. Ensure you extract a single element from your array before performing this operation. (Deprecated NumPy 1.25.)\n",
            "  repetitions[int(r_samples[index])-1]['last_index'] = index\n",
            "<ipython-input-20-cc8d8dd8c5bc>:19: DeprecationWarning: Conversion of an array with ndim > 0 to a scalar is deprecated, and will error in future. Ensure you extract a single element from your array before performing this operation. (Deprecated NumPy 1.25.)\n",
            "  repetitions[int(r_samples[index])-1]['last_index'] = index - 1\n"
          ]
        }
      ],
      "source": [
        "# samples_section = emg_samples[:17100]\n",
        "# samples_section = emg[:9215]\n",
        "samples_section = emg[:8378]\n",
        "#Determina as seções dos stimulus\n",
        "stimulus_ranges = get_stimulus_ranges(stimulus_samples, 12)\n",
        "\n",
        "#Determina as seções das repetitions, separadas também por stimulus\n",
        "stimulus_ranges_with_repetition = split_repetition(stimulus_ranges, stimulus_samples, repetition_samples, 10, [0, 2, 3, 5, 6, 8, 9])\n",
        "\n",
        "response = windowing(samples_section, stimulus_ranges_with_repetition, 10, 1000, 0.008, 0.002) #usar 0.150 e 0.050\n",
        "\n",
        "# print(\"TREINO:\")\n",
        "# print('response[0] === ', response[0])\n",
        "\n",
        "\n",
        "# print(\"TESTE:\")\n",
        "# print('response[1] === ', response[1])\n"
      ]
    },
    {
      "cell_type": "markdown",
      "metadata": {
        "id": "r3TvDjP50yVd"
      },
      "source": [
        "# Features"
      ]
    },
    {
      "cell_type": "markdown",
      "metadata": {
        "id": "TgTmYE0W9SLa"
      },
      "source": [
        "# Média, Moda, Mediana, RMS, Variância\n",
        "\n"
      ]
    },
    {
      "cell_type": "code",
      "execution_count": 25,
      "metadata": {
        "id": "TNoxu3EH9qbH"
      },
      "outputs": [],
      "source": [
        "import copy\n",
        "\n",
        "# monta uma lista com as mesmas dimensões da lista de janelamento para armazenar o\n",
        "# resultado da feature de emg (média)\n",
        "# features = chaves das features ['mean', 'mode', 'median', 'rms']\n",
        "def generate_mean_features(windows_by_sensors, features):\n",
        "  # como todos tem o mesmo tamanho, qualquer um serve\n",
        "  windows_by_sensors_copy = copy.deepcopy(windows_by_sensors)\n",
        "  sensors_quantity = len(windows_by_sensors[0]['windows'])\n",
        "  feature_windows = [[] for _ in range(sensors_quantity)]\n",
        "\n",
        "  for sensor_index in range(len(windows_by_sensors)):\n",
        "    window_dictionary = windows_by_sensors[sensor_index]['windows']\n",
        "\n",
        "    for window_dictionary_index in range(len(window_dictionary)):\n",
        "      window = window_dictionary[window_dictionary_index]['window']\n",
        "      features_dict = {}\n",
        "\n",
        "      if ('mean' in features):\n",
        "        window_mean = sum(window) / len(window)\n",
        "        features_dict['mean'] = window_mean\n",
        "\n",
        "      if ('mode' in features):\n",
        "        window_mode = mode(window)\n",
        "        features_dict['mode'] = window_mode\n",
        "\n",
        "      if ('median' in features):\n",
        "        window_median = median(window)\n",
        "        features_dict['median'] = window_median\n",
        "\n",
        "      if ('rms' in features):\n",
        "        np_window = np.array(window)\n",
        "        window_rms = np.sqrt(np.mean(np_window**2))\n",
        "        features_dict['rms'] = window_rms\n",
        "\n",
        "      if ('variance' in features):\n",
        "        window_median = variance(window)\n",
        "        features_dict['variance'] = window_median\n",
        "\n",
        "      if ('sensor' in features):\n",
        "        features_dict['sensor'] = sensor_index + 1\n",
        "\n",
        "      windows_by_sensors_copy[sensor_index]['windows'][window_dictionary_index]['features'] = features_dict\n",
        "      # print('windows_by_sensors_copy === ', windows_by_sensors_copy)\n",
        "      # window_dictionary['features'] = features_dict\n",
        "\n",
        "      # print(\"window_dictionary == \", window_dictionary)\n",
        "\n",
        "  return windows_by_sensors_copy\n"
      ]
    },
    {
      "cell_type": "code",
      "execution_count": 26,
      "metadata": {
        "colab": {
          "base_uri": "https://localhost:8080/"
        },
        "id": "aD-s0W9w-PCT",
        "outputId": "84105bcd-42a5-4a64-fe67-e491db6f22d5"
      },
      "outputs": [
        {
          "output_type": "stream",
          "name": "stderr",
          "text": [
            "<ipython-input-20-cc8d8dd8c5bc>:27: DeprecationWarning: Conversion of an array with ndim > 0 to a scalar is deprecated, and will error in future. Ensure you extract a single element from your array before performing this operation. (Deprecated NumPy 1.25.)\n",
            "  repetitions[int(r_samples[index])-1]['first_index'] = index\n",
            "<ipython-input-20-cc8d8dd8c5bc>:31: DeprecationWarning: Conversion of an array with ndim > 0 to a scalar is deprecated, and will error in future. Ensure you extract a single element from your array before performing this operation. (Deprecated NumPy 1.25.)\n",
            "  repetitions[int(r_samples[index])-1]['last_index'] = index\n",
            "<ipython-input-20-cc8d8dd8c5bc>:19: DeprecationWarning: Conversion of an array with ndim > 0 to a scalar is deprecated, and will error in future. Ensure you extract a single element from your array before performing this operation. (Deprecated NumPy 1.25.)\n",
            "  repetitions[int(r_samples[index])-1]['last_index'] = index - 1\n"
          ]
        },
        {
          "output_type": "stream",
          "name": "stdout",
          "text": [
            "quantity_train ===  602\n",
            "quantity_test ===  258\n",
            "total ===  860\n",
            "percentage train ===  70.0 %\n",
            "percentage test ===  30.0 %\n"
          ]
        }
      ],
      "source": [
        "# samples_section = emg_samples[:17100]\n",
        "# samples_section = emg_samples[:9215]\n",
        "samples_section = emg_samples[:8378]\n",
        "# samples_section = emg_samples[:400]\n",
        "\n",
        "#Determina as seções dos stimulus\n",
        "stimulus_ranges = get_stimulus_ranges(stimulus_samples, 12)\n",
        "\n",
        "#Determina as seções das repetitions, separadas também por stimulus\n",
        "stimulus_ranges_with_repetition = split_repetition(stimulus_ranges, stimulus_samples, repetition_samples, 10, [0, 2, 3, 5, 6, 8, 9])\n",
        "\n",
        "response = windowing(samples_section, stimulus_ranges_with_repetition, 10, 1000, 0.008, 0.002)\n",
        "\n",
        "all_windows_with_features_train = generate_mean_features(response[0], ['mean', 'mode', 'median', 'rms', 'variance', 'sensor'])\n",
        "all_windows_with_features_test = generate_mean_features(response[1], ['mean', 'mode', 'median', 'rms', 'variance', 'sensor'])\n",
        "\n",
        "quantity_train = len(all_windows_with_features_train[0]['windows'])\n",
        "quantity_test = len(all_windows_with_features_test[0]['windows'])\n",
        "total = quantity_train + quantity_test\n",
        "\n",
        "print(\"quantity_train === \", quantity_train)\n",
        "print(\"quantity_test === \", quantity_test)\n",
        "print(\"total === \", total)\n",
        "\n",
        "print(\"percentage train === \", quantity_train * 100 / total, '%')\n",
        "print(\"percentage test === \", quantity_test * 100 / total, '%')"
      ]
    },
    {
      "cell_type": "code",
      "execution_count": 27,
      "metadata": {
        "id": "B6obL8Tu6qe9"
      },
      "outputs": [],
      "source": [
        "# for sensor_index in range (len(all_windows_with_features_train)):\n",
        "#   features_by_windows_by_sensor = all_windows_with_features_train[sensor_index]\n",
        "\n",
        "#   print('- Sensor === ', features_by_windows_by_sensor['sensor'])\n",
        "#   print()\n",
        "\n",
        "#   for window in features_by_windows_by_sensor['windows']:\n",
        "#     print('-- stimulus === ', window['stimulus'])\n",
        "#     print('-- window === ', window['window'])\n",
        "#     print('-- features === ', window['features'])\n",
        "\n",
        "#   print()\n"
      ]
    },
    {
      "cell_type": "code",
      "execution_count": 28,
      "metadata": {
        "id": "WYXBHooM6qrM"
      },
      "outputs": [],
      "source": [
        "# for sensor_index in range (len(all_windows_with_features_test)):\n",
        "#   features_by_windows_by_sensor = all_windows_with_features_test[sensor_index]\n",
        "\n",
        "#   print('- Sensor === ', features_by_windows_by_sensor['sensor'])\n",
        "#   print()\n",
        "\n",
        "#   for window in features_by_windows_by_sensor['windows']:\n",
        "#     print('-- stimulus === ', window['stimulus'])\n",
        "#     print('-- window === ', window['window'])\n",
        "#     print('-- features === ', window['features'])\n",
        "\n",
        "#   print()"
      ]
    },
    {
      "cell_type": "markdown",
      "metadata": {
        "id": "RV5BBGhJ9YR5"
      },
      "source": [
        "# Tamanho Formato de Onda\n"
      ]
    },
    {
      "cell_type": "code",
      "execution_count": 28,
      "metadata": {
        "id": "ljiAU8x69r2v"
      },
      "outputs": [],
      "source": []
    },
    {
      "cell_type": "markdown",
      "metadata": {
        "id": "xQI7kKRRogT1"
      },
      "source": [
        "## Histogram"
      ]
    },
    {
      "cell_type": "code",
      "execution_count": 29,
      "metadata": {
        "id": "4BP6P1KV4QxX"
      },
      "outputs": [],
      "source": [
        "# def flatten_data(data):\n",
        "#   response = []\n",
        "\n",
        "#   for window in data:\n",
        "#     for value in window:\n",
        "#       response.append(value)\n",
        "\n",
        "#   return response"
      ]
    },
    {
      "cell_type": "code",
      "execution_count": 30,
      "metadata": {
        "id": "SK9WE2I02UW_"
      },
      "outputs": [],
      "source": [
        "# #Fazer por janela\n",
        "# def generate_hist(windows):\n",
        "#   flat_data = flatten_data(windows)\n",
        "#   normalized_data = flat_data/np.std(flat_data)\n",
        "#   # Definir o intervalo de valores\n",
        "#   min_value = np.min(normalized_data)\n",
        "#   max_value = np.max(normalized_data)\n",
        "\n",
        "#   # Definir o número de bins\n",
        "#   num_bins = 20\n",
        "\n",
        "#   # Calcular o histograma\n",
        "#   counts, bins = np.histogram(normalized_data, bins=num_bins)\n",
        "\n",
        "#   # Plotar o histograma\n",
        "#   plt.bar(bins[:-1], counts)\n",
        "#   plt.xlabel('Bins')\n",
        "#   plt.ylabel('Valores Normalizados')\n",
        "#   plt.title('Histograma')\n",
        "#   plt.show()\n"
      ]
    },
    {
      "cell_type": "code",
      "execution_count": 31,
      "metadata": {
        "id": "J6pcK-DE03vg"
      },
      "outputs": [],
      "source": [
        "# windows_by_sensors = windowing(emg_samples[:100], 10, 1, 4, 2)\n",
        "\n",
        "# for windows in windows_by_sensors:\n",
        "#   generate_hist(windows)\n"
      ]
    },
    {
      "cell_type": "markdown",
      "metadata": {
        "id": "MuVkFxgH8L-s"
      },
      "source": [
        "# mDWT (Transformada Discreta de Wavelet Multidimensional)\n",
        "\n",
        "talvez apenas a DWT baste"
      ]
    },
    {
      "cell_type": "code",
      "execution_count": 32,
      "metadata": {
        "id": "fmul-DUN9F34"
      },
      "outputs": [],
      "source": [
        "# import pywt"
      ]
    },
    {
      "cell_type": "code",
      "execution_count": 33,
      "metadata": {
        "id": "JklkOS1H8iO0"
      },
      "outputs": [],
      "source": [
        "# # monta uma lista com as mesmas dimensões da lista de janelamento para armazenar o\n",
        "# # resultado da feature de emg\n",
        "# def generate_dwt_features(windows_by_sensors):\n",
        "#   dwt_windows = [[] for sensor_windows in windows_by_sensors]\n",
        "\n",
        "#   for sensor_index in range(len(windows_by_sensors)):\n",
        "#     sensor_windows = windows_by_sensors[sensor_index]\n",
        "\n",
        "#     for window in sensor_windows:\n",
        "#       np_window = np.array(window)\n",
        "#       window_dwt = pywt.dwt(window, 'db1')\n",
        "\n",
        "#       dwt_windows[sensor_index].append(window_dwt)\n",
        "\n",
        "#   return dwt_windows\n",
        "\n"
      ]
    },
    {
      "cell_type": "code",
      "execution_count": 34,
      "metadata": {
        "id": "QAHNMxds9blY"
      },
      "outputs": [],
      "source": [
        "# emg_samples = mat['emg']\n",
        "# windows_by_sensors = windowing(emg_samples[:100], 10, 1, 4, 2)\n",
        "# dwt_features = generate_dwt_features(windows_by_sensors)\n",
        "\n",
        "# for sensor_index in range (len(dwt_features)):\n",
        "#   print(sensor_index, ' === ',  dwt_features[sensor_index])"
      ]
    },
    {
      "cell_type": "markdown",
      "metadata": {
        "id": "5okB89eIn__u"
      },
      "source": [
        "# Classificadores"
      ]
    },
    {
      "cell_type": "code",
      "execution_count": 35,
      "metadata": {
        "id": "1GQ3kpk8p8S1"
      },
      "outputs": [],
      "source": [
        "import pandas as pd\n",
        "import numpy as np\n",
        "import matplotlib.pyplot as plt\n",
        "import sklearn\n",
        "from sklearn.dummy import DummyClassifier, DummyRegressor\n",
        "from sklearn.neural_network import MLPClassifier\n",
        "from sklearn.neural_network import MLPRegressor\n",
        "\n",
        "# Import necessary modules\n",
        "from sklearn.model_selection import train_test_split\n",
        "from sklearn.metrics import mean_squared_error\n",
        "from math import sqrt\n",
        "from sklearn.metrics import r2_score\n",
        "from sklearn.metrics import classification_report,confusion_matrix\n",
        "from sklearn.neural_network import MLPClassifier\n"
      ]
    },
    {
      "cell_type": "code",
      "execution_count": 36,
      "metadata": {
        "id": "-0td-1k3Paa5"
      },
      "outputs": [],
      "source": [
        "def mount_predictors(windows_with_features, feature_keys):\n",
        "  x_response = []\n",
        "  y_response = []\n",
        "\n",
        "  quantity_of_windows = len(windows_with_features[0]['windows'])\n",
        "\n",
        "  for window_index in range(quantity_of_windows):\n",
        "    x_data = []\n",
        "\n",
        "    for sensor in windows_with_features:\n",
        "      window = sensor['windows'][window_index]\n",
        "\n",
        "      for key in feature_keys:\n",
        "        x_data.append(window['features'][key])\n",
        "\n",
        "    x_response.append(x_data)\n",
        "    y_response.append(window['stimulus'])\n",
        "\n",
        "  # print('x_response === ', x_response)\n",
        "  # print('y_response === ', y_response)\n",
        "  # print('x_response_total === ', len(x_response))\n",
        "  # print('y_response_total === ', len(y_response))\n",
        "  # print('x_response_len === ', len(x_response[0]))\n",
        "  return x_response, y_response"
      ]
    },
    {
      "cell_type": "code",
      "execution_count": 37,
      "metadata": {
        "colab": {
          "base_uri": "https://localhost:8080/"
        },
        "id": "n1PfE_It8Da7",
        "outputId": "7212724e-acde-4e05-b160-2af683dc70e0"
      },
      "outputs": [
        {
          "output_type": "stream",
          "name": "stderr",
          "text": [
            "<ipython-input-20-cc8d8dd8c5bc>:27: DeprecationWarning: Conversion of an array with ndim > 0 to a scalar is deprecated, and will error in future. Ensure you extract a single element from your array before performing this operation. (Deprecated NumPy 1.25.)\n",
            "  repetitions[int(r_samples[index])-1]['first_index'] = index\n",
            "<ipython-input-20-cc8d8dd8c5bc>:31: DeprecationWarning: Conversion of an array with ndim > 0 to a scalar is deprecated, and will error in future. Ensure you extract a single element from your array before performing this operation. (Deprecated NumPy 1.25.)\n",
            "  repetitions[int(r_samples[index])-1]['last_index'] = index\n",
            "<ipython-input-20-cc8d8dd8c5bc>:19: DeprecationWarning: Conversion of an array with ndim > 0 to a scalar is deprecated, and will error in future. Ensure you extract a single element from your array before performing this operation. (Deprecated NumPy 1.25.)\n",
            "  repetitions[int(r_samples[index])-1]['last_index'] = index - 1\n"
          ]
        }
      ],
      "source": [
        "samples_section = emg_samples\n",
        "\n",
        "#Determina as seções dos stimulus\n",
        "stimulus_ranges = get_stimulus_ranges(stimulus_samples, 12)\n",
        "\n",
        "#Determina as seções das repetitions, separadas também por stimulus\n",
        "stimulus_ranges_with_repetition = split_repetition(stimulus_ranges, stimulus_samples, repetition_samples, 10, [2, 3, 4, 5, 6, 7, 8])\n",
        "\n",
        "# response = windowing(samples_section, stimulus_ranges_with_repetition, 10, 1000, 0.225, 0.025)\n",
        "response = windowing(samples_section, stimulus_ranges_with_repetition, 10, 2000, 0.225, 0.025)\n",
        "\n",
        "features = ['mean', 'mode', 'median', 'rms', 'variance', 'sensor']\n",
        "\n",
        "all_windows_with_features_train = generate_mean_features(response[0], features)\n",
        "all_windows_with_features_test = generate_mean_features(response[1], features)\n",
        "\n",
        "x_train, y_train = mount_predictors(all_windows_with_features_train, features)\n",
        "x_test, y_test = mount_predictors(all_windows_with_features_test, features)"
      ]
    },
    {
      "cell_type": "markdown",
      "metadata": {
        "id": "tGRVOme5madV"
      },
      "source": [
        "PARCIAL"
      ]
    },
    {
      "cell_type": "code",
      "execution_count": 38,
      "metadata": {
        "colab": {
          "base_uri": "https://localhost:8080/"
        },
        "id": "297yrNR4mgbh",
        "outputId": "f1e91aab-17a6-4421-b194-ed8219b7fd8e"
      },
      "outputs": [
        {
          "output_type": "stream",
          "name": "stderr",
          "text": [
            "<ipython-input-20-cc8d8dd8c5bc>:27: DeprecationWarning: Conversion of an array with ndim > 0 to a scalar is deprecated, and will error in future. Ensure you extract a single element from your array before performing this operation. (Deprecated NumPy 1.25.)\n",
            "  repetitions[int(r_samples[index])-1]['first_index'] = index\n",
            "<ipython-input-20-cc8d8dd8c5bc>:31: DeprecationWarning: Conversion of an array with ndim > 0 to a scalar is deprecated, and will error in future. Ensure you extract a single element from your array before performing this operation. (Deprecated NumPy 1.25.)\n",
            "  repetitions[int(r_samples[index])-1]['last_index'] = index\n",
            "<ipython-input-20-cc8d8dd8c5bc>:19: DeprecationWarning: Conversion of an array with ndim > 0 to a scalar is deprecated, and will error in future. Ensure you extract a single element from your array before performing this operation. (Deprecated NumPy 1.25.)\n",
            "  repetitions[int(r_samples[index])-1]['last_index'] = index - 1\n"
          ]
        }
      ],
      "source": [
        "# samples_section = emg_samples[:17100]\n",
        "# samples_section = emg_samples[:9215]\n",
        "# samples_section = emg_samples[:8378]\n",
        "# samples_section = emg_samples[:400]\n",
        "# samples_section = emg_samples[:25152] #stimulus 1 à 3\n",
        "# samples_section = emg_samples[:16765] #stimulus 1 à 2\n",
        "samples_section = emg_samples\n",
        "\n",
        "#Determina as seções dos stimulus\n",
        "stimulus_ranges = get_stimulus_ranges(stimulus_samples, 12)\n",
        "\n",
        "#Determina as seções das repetitions, separadas também por stimulus\n",
        "stimulus_ranges_with_repetition = split_repetition(stimulus_ranges, stimulus_samples, repetition_samples, 10, [0, 1, 3, 4, 6, 8, 9])\n",
        "\n",
        "# response = windowing(samples_section, stimulus_ranges_with_repetition, 10, 1000, 0.225, 0.025)\n",
        "response = windowing(samples_section, stimulus_ranges_with_repetition, 10, 2000, 0.225, 0.025)\n",
        "\n",
        "features = ['mean', 'mode', 'median', 'rms', 'variance', 'sensor']\n",
        "# features = ['mean', 'rms', 'variance', 'median']\n",
        "\n",
        "all_windows_with_features_train = generate_mean_features(response[0], features)\n",
        "all_windows_with_features_test = generate_mean_features(response[1], features)\n",
        "\n",
        "x_train, y_train = mount_predictors(all_windows_with_features_train, features)\n",
        "x_test, y_test = mount_predictors(all_windows_with_features_test, features)"
      ]
    },
    {
      "cell_type": "markdown",
      "source": [
        "# Redes Neurais"
      ],
      "metadata": {
        "id": "CYVGViJ29_dg"
      }
    },
    {
      "cell_type": "code",
      "source": [
        "layers = (300, 250, 200)\n",
        "iterations = 750\n",
        "\n",
        "relu_accuracies = []\n",
        "tanh_accuracies = []\n",
        "relu_min = 100\n",
        "tanh_min = 100\n",
        "relu_max = 0\n",
        "tanh_max = 0\n",
        "\n",
        "for _ in range(25):\n",
        "\n",
        "  mlp_relu = MLPClassifier(hidden_layer_sizes=layers, activation='relu', solver='adam', max_iter=iterations)\n",
        "  mlp_relu.fit(x_train, y_train)\n",
        "  mlp_tanh = MLPClassifier(hidden_layer_sizes=layers, activation='tanh', solver='adam', max_iter=iterations)\n",
        "  mlp_tanh.fit(x_train, y_train)\n",
        "\n",
        "  mlp_relu.predict(x_test)\n",
        "  mlp_tanh.predict(x_test)\n",
        "\n",
        "  accuracy_test_relu = mlp_relu.score(x_test, y_test) * 100\n",
        "  accuracy_test_tanh = mlp_tanh.score(x_test, y_test) * 100\n",
        "\n",
        "  print(\"Relu acurácia  = %.2f\" % accuracy_test_relu)\n",
        "  print(\"Tanh acurácia  = %.2f\" % accuracy_test_tanh)\n",
        "\n",
        "  relu_accuracies.append(accuracy_test_relu)\n",
        "  tanh_accuracies.append(accuracy_test_tanh)\n",
        "\n",
        "  if (accuracy_test_relu < relu_min):\n",
        "    relu_min = accuracy_test_relu\n",
        "  elif (accuracy_test_relu > relu_max):\n",
        "    relu_max = accuracy_test_relu\n",
        "\n",
        "  if (accuracy_test_tanh < tanh_min):\n",
        "    tanh_min = accuracy_test_tanh\n",
        "  elif (accuracy_test_tanh > tanh_max):\n",
        "    tanh_max = accuracy_test_tanh\n",
        "\n",
        "  print ('=========================')\n",
        "\n",
        "print()\n",
        "print(\"- Relu média  = %.2f\" % (sum(relu_accuracies)/len(relu_accuracies)))\n",
        "print(\"- Relu min  = %.2f\" % relu_min)\n",
        "print(\"- Relu max  = %.2f\" % relu_max)\n",
        "print()\n",
        "print(\"- Tanh média  = %.2f\" % (sum(tanh_accuracies)/len(tanh_accuracies)))\n",
        "print(\"- Tanh min  = %.2f\" % tanh_min)\n",
        "print(\"- Tanh max  = %.2f\" % tanh_max)"
      ],
      "metadata": {
        "colab": {
          "base_uri": "https://localhost:8080/"
        },
        "id": "o5I4IJ6sXfll",
        "outputId": "adf8743b-c93d-47b6-e685-9924bcc6d0a4"
      },
      "execution_count": 44,
      "outputs": [
        {
          "output_type": "stream",
          "name": "stdout",
          "text": [
            "Relu acurácia  = 69.44\n",
            "Tanh acurácia  = 76.39\n",
            "=========================\n",
            "Relu acurácia  = 69.44\n",
            "Tanh acurácia  = 73.61\n",
            "=========================\n",
            "Relu acurácia  = 70.83\n",
            "Tanh acurácia  = 77.78\n",
            "=========================\n",
            "Relu acurácia  = 65.28\n",
            "Tanh acurácia  = 77.78\n",
            "=========================\n",
            "Relu acurácia  = 73.61\n",
            "Tanh acurácia  = 56.94\n",
            "=========================\n",
            "Relu acurácia  = 63.89\n",
            "Tanh acurácia  = 69.44\n",
            "=========================\n",
            "Relu acurácia  = 66.67\n",
            "Tanh acurácia  = 75.00\n",
            "=========================\n",
            "Relu acurácia  = 68.06\n",
            "Tanh acurácia  = 75.00\n",
            "=========================\n",
            "Relu acurácia  = 61.11\n",
            "Tanh acurácia  = 62.50\n",
            "=========================\n",
            "Relu acurácia  = 62.50\n",
            "Tanh acurácia  = 63.89\n",
            "=========================\n",
            "Relu acurácia  = 69.44\n",
            "Tanh acurácia  = 72.22\n",
            "=========================\n",
            "Relu acurácia  = 65.28\n",
            "Tanh acurácia  = 79.17\n",
            "=========================\n",
            "Relu acurácia  = 68.06\n",
            "Tanh acurácia  = 83.33\n",
            "=========================\n",
            "Relu acurácia  = 56.94\n",
            "Tanh acurácia  = 76.39\n",
            "=========================\n",
            "Relu acurácia  = 63.89\n",
            "Tanh acurácia  = 76.39\n",
            "=========================\n",
            "Relu acurácia  = 72.22\n",
            "Tanh acurácia  = 59.72\n",
            "=========================\n",
            "Relu acurácia  = 59.72\n",
            "Tanh acurácia  = 69.44\n",
            "=========================\n",
            "Relu acurácia  = 68.06\n",
            "Tanh acurácia  = 72.22\n",
            "=========================\n",
            "Relu acurácia  = 70.83\n",
            "Tanh acurácia  = 69.44\n",
            "=========================\n",
            "Relu acurácia  = 62.50\n",
            "Tanh acurácia  = 65.28\n",
            "=========================\n",
            "Relu acurácia  = 66.67\n",
            "Tanh acurácia  = 75.00\n",
            "=========================\n",
            "Relu acurácia  = 72.22\n",
            "Tanh acurácia  = 56.94\n",
            "=========================\n",
            "Relu acurácia  = 69.44\n",
            "Tanh acurácia  = 72.22\n",
            "=========================\n",
            "Relu acurácia  = 69.44\n",
            "Tanh acurácia  = 75.00\n",
            "=========================\n",
            "Relu acurácia  = 70.83\n",
            "Tanh acurácia  = 66.67\n",
            "=========================\n",
            "\n",
            "- Relu média  = 67.06\n",
            "- Relu min  = 56.94\n",
            "- Relu max  = 73.61\n",
            "\n",
            "- Tanh média  = 71.11\n",
            "- Tanh min  = 56.94\n",
            "- Tanh max  = 83.33\n"
          ]
        }
      ]
    },
    {
      "cell_type": "code",
      "source": [
        "# layers = (300, 300, 200)\n",
        "# iterations = 750\n",
        "\n",
        "# mlp_relu = MLPClassifier(hidden_layer_sizes=layers, activation='relu', solver='adam', max_iter=iterations)\n",
        "# mlp_relu.fit(x_train, y_train)\n",
        "\n",
        "# mlp_tanh = MLPClassifier(hidden_layer_sizes=layers, activation='tanh', solver='adam', max_iter=iterations)\n",
        "# mlp_tanh.fit(x_train, y_train)\n",
        "\n",
        "# mlp_logistic = MLPClassifier(hidden_layer_sizes=layers, activation='logistic', solver='adam', max_iter=iterations)\n",
        "# mlp_logistic.fit(x_train, y_train)\n",
        "\n",
        "# mlp_identity = MLPClassifier(hidden_layer_sizes=layers, activation='identity', solver='adam', max_iter=iterations)\n",
        "# mlp_identity.fit(x_train, y_train)\n",
        "\n",
        "# mlp_relu_s = MLPClassifier(hidden_layer_sizes=layers, activation='relu', solver='sgd', max_iter=iterations)\n",
        "# mlp_relu_s.fit(x_train, y_train)\n",
        "\n",
        "# mlp_tanh_s = MLPClassifier(hidden_layer_sizes=layers, activation='tanh', solver='sgd', max_iter=iterations)\n",
        "# mlp_tanh_s.fit(x_train, y_train)\n",
        "\n",
        "# mlp_logistic_s = MLPClassifier(hidden_layer_sizes=layers, activation='logistic', solver='sgd', max_iter=iterations)\n",
        "# mlp_logistic_s.fit(x_train, y_train)\n",
        "\n",
        "# mlp_identity_s = MLPClassifier(hidden_layer_sizes=layers, activation='identity', solver='sgd', max_iter=iterations)\n",
        "# mlp_identity_s.fit(x_train, y_train)\n",
        "\n",
        "# dc = DummyClassifier()\n",
        "# dc.fit(x_train, y_train)\n",
        "\n",
        "# dc_predict_train = dc.predict(x_train)\n",
        "# dc_predict_test = dc.predict(x_test)\n",
        "\n",
        "# # mlp_predict_train_relu = mlp_relu.predict(x_train)\n",
        "# # mlp_predict_test_relu = mlp_relu.predict(x_test)\n",
        "\n",
        "# # mlp_predict_train_tanh = mlp_tanh.predict(x_train)\n",
        "# # mlp_predict_test_tanh = mlp_tanh.predict(x_test)\n",
        "\n",
        "# # mlp_predict_train_logistic = mlp_logistic.predict(x_train)\n",
        "# # mlp_predict_test_logistic = mlp_logistic.predict(x_test)\n",
        "\n",
        "# # mlp_predict_train_identity = mlp_identity.predict(x_train)\n",
        "# # mlp_predict_test_identity = mlp_identity.predict(x_test)\n",
        "\n",
        "# mlp_relu.predict(x_train)\n",
        "# mlp_relu.predict(x_test)\n",
        "# print(mlp_relu.n_outputs_)\n",
        "\n",
        "# mlp_tanh.predict(x_train)\n",
        "# mlp_tanh.predict(x_test)\n",
        "\n",
        "# mlp_logistic.predict(x_train)\n",
        "# mlp_logistic.predict(x_test)\n",
        "\n",
        "# mlp_identity.predict(x_train)\n",
        "# mlp_identity.predict(x_test)\n",
        "\n",
        "# mlp_relu_s.predict(x_train)\n",
        "# mlp_relu_s.predict(x_test)\n",
        "\n",
        "# mlp_tanh_s.predict(x_train)\n",
        "# mlp_tanh_s.predict(x_test)\n",
        "\n",
        "# mlp_logistic_s.predict(x_train)\n",
        "# mlp_logistic_s.predict(x_test)\n",
        "\n",
        "# mlp_identity_s.predict(x_train)\n",
        "# mlp_identity_s.predict(x_test)\n",
        "\n",
        "# print ('MLP - RELU')\n",
        "# # print(confusion_matrix(y_train,mlp_predict_train))\n",
        "# accuracy_train = mlp_relu.score(x_train, y_train) * 100\n",
        "# print(\"A acurácia treino foi = \", accuracy_train)\n",
        "# # print(classification_report(y_train,mlp_predict_train_relu))\n",
        "# # print(confusion_matrix(y_test, mlp_predict_test))\n",
        "# accuracy_test = mlp_relu.score(x_test, y_test) * 100\n",
        "# print(\"A acurácia teste foi = \", accuracy_test)\n",
        "# # print(classification_report(y_test, mlp_predict_test_relu))\n",
        "# print ()\n",
        "\n",
        "# print ('MLP - TANH')\n",
        "# # print(confusion_matrix(y_train,mlp_predict_train))\n",
        "# accuracy_train = mlp_tanh.score(x_train, y_train) * 100\n",
        "# print(\"A acurácia treino foi = \", accuracy_train)\n",
        "# # print(classification_report(y_train,mlp_predict_train_tanh))\n",
        "# # print(confusion_matrix(y_test, mlp_predict_test))\n",
        "# accuracy_test = mlp_tanh.score(x_test, y_test) * 100\n",
        "# print(\"A acurácia teste foi = \", accuracy_test)\n",
        "# # print(classification_report(y_test, mlp_predict_test_tanh))\n",
        "# print ()\n",
        "\n",
        "# print ('MLP - LOGISTIC')\n",
        "# # print(confusion_matrix(y_train,mlp_predict_train))\n",
        "# accuracy_train = mlp_logistic.score(x_train, y_train) * 100\n",
        "# print(\"A acurácia treino foi = \", accuracy_train)\n",
        "# # print(classification_report(y_train,mlp_predict_train_logistic))\n",
        "# # print(confusion_matrix(y_test, mlp_predict_test))\n",
        "# accuracy_test = mlp_logistic.score(x_test, y_test) * 100\n",
        "# print(\"A acurácia teste foi = \", accuracy_test)\n",
        "# # print(classification_report(y_test, mlp_predict_test_logistic))\n",
        "# print ()\n",
        "\n",
        "# print ('MLP - IDENTITY')\n",
        "# # print(confusion_matrix(y_train,mlp_predict_train))\n",
        "# accuracy_train = mlp_identity.score(x_train, y_train) * 100\n",
        "# print(\"A acurácia treino foi = \", accuracy_train)\n",
        "# # print(classification_report(y_train,mlp_predict_train_identity))\n",
        "# # print(confusion_matrix(y_test, mlp_predict_test))\n",
        "# accuracy_test = mlp_identity.score(x_test, y_test) * 100\n",
        "# print(\"A acurácia teste foi = \", accuracy_test)\n",
        "# # print(classification_report(y_test, mlp_predict_test_identity))\n",
        "# print ()\n",
        "\n",
        "# #=========================================================================\n",
        "\n",
        "# print ('MLP - RELU - SGD')\n",
        "# # print(confusion_matrix(y_train,mlp_predict_train))\n",
        "# accuracy_train = mlp_relu_s.score(x_train, y_train) * 100\n",
        "# print(\"A acurácia treino foi = \", accuracy_train)\n",
        "# # print(classification_report(y_train,mlp_predict_train_relu))\n",
        "# # print(confusion_matrix(y_test, mlp_predict_test))\n",
        "# accuracy_test = mlp_relu_s.score(x_test, y_test) * 100\n",
        "# print(\"A acurácia teste foi = \", accuracy_test)\n",
        "# # print(classification_report(y_test, mlp_predict_test_relu))\n",
        "# print ()\n",
        "\n",
        "# print ('MLP - TANH - SGD')\n",
        "# # print(confusion_matrix(y_train,mlp_predict_train))\n",
        "# accuracy_train = mlp_tanh_s.score(x_train, y_train) * 100\n",
        "# print(\"A acurácia treino foi = \", accuracy_train)\n",
        "# # print(classification_report(y_train,mlp_predict_train_tanh))\n",
        "# # print(confusion_matrix(y_test, mlp_predict_test))\n",
        "# accuracy_test = mlp_tanh_s.score(x_test, y_test) * 100\n",
        "# print(\"A acurácia teste foi = \", accuracy_test)\n",
        "# # print(classification_report(y_test, mlp_predict_test_tanh))\n",
        "# print ()\n",
        "\n",
        "# print ('MLP - LOGISTIC - SGD')\n",
        "# # print(confusion_matrix(y_train,mlp_predict_train))\n",
        "# accuracy_train = mlp_logistic_s.score(x_train, y_train) * 100\n",
        "# print(\"A acurácia treino foi = \", accuracy_train)\n",
        "# # print(classification_report(y_train,mlp_predict_train_logistic))\n",
        "# # print(confusion_matrix(y_test, mlp_predict_test))\n",
        "# accuracy_test = mlp_logistic_s.score(x_test, y_test) * 100\n",
        "# print(\"A acurácia teste foi = \", accuracy_test)\n",
        "# # print(classification_report(y_test, mlp_predict_test_logistic))\n",
        "# print ()\n",
        "\n",
        "# print ('MLP - IDENTITY - SGD')\n",
        "# # print(confusion_matrix(y_train,mlp_predict_train))\n",
        "# accuracy_train = mlp_identity_s.score(x_train, y_train) * 100\n",
        "# print(\"A acurácia treino foi = \", accuracy_train)\n",
        "# # print(classification_report(y_train,mlp_predict_train_identity))\n",
        "# # print(confusion_matrix(y_test, mlp_predict_test))\n",
        "# accuracy_test = mlp_identity_s.score(x_test, y_test) * 100\n",
        "# print(\"A acurácia teste foi = \", accuracy_test)\n",
        "# # print(classification_report(y_test, mlp_predict_test_identity))\n",
        "# print ()\n",
        "\n",
        "# #=========================================================================\n",
        "\n",
        "# print ('DUMMY')\n",
        "# # print(confusion_matrix(y_train,mlp_predict_train))\n",
        "# accuracy_train = dc.score(x_train, y_train) * 100\n",
        "# print(\"A acurácia treino foi = \", accuracy_train)\n",
        "# # print(classification_report(y_train,dc_predict_train))\n",
        "# # print(confusion_matrix(y_test, mlp_predict_test))\n",
        "# accuracy_test = dc.score(x_test, y_test) * 100\n",
        "# print(\"A acurácia teste foi = \", accuracy_test)\n",
        "# # print(classification_report(y_test, dc_predict_test))\n",
        "# print ()"
      ],
      "metadata": {
        "id": "9tBTpxSdWMRQ"
      },
      "execution_count": null,
      "outputs": []
    },
    {
      "cell_type": "markdown",
      "source": [
        "# KNN\n"
      ],
      "metadata": {
        "id": "vd4whMdHEwhQ"
      }
    },
    {
      "cell_type": "code",
      "source": [
        "from sklearn.neighbors import KNeighborsClassifier\n",
        "from sklearn.preprocessing import StandardScaler"
      ],
      "metadata": {
        "id": "GrnYoJco-FFp"
      },
      "execution_count": 47,
      "outputs": []
    },
    {
      "cell_type": "code",
      "source": [
        "samples_section = emg_samples\n",
        "features = ['mean', 'mode', 'median', 'rms', 'variance', 'sensor']\n",
        "\n",
        "stimulus_ranges = get_stimulus_ranges(stimulus_samples, 12)\n",
        "stimulus_ranges_with_repetition = split_repetition(stimulus_ranges, stimulus_samples, repetition_samples, 10, [0, 1, 3, 4, 6, 8, 9])\n",
        "\n",
        "response = windowing(samples_section, stimulus_ranges_with_repetition, 10, 2000, 0.225, 0.025)\n",
        "\n",
        "all_windows_with_features_train = generate_mean_features(response[0], features)\n",
        "all_windows_with_features_test = generate_mean_features(response[1], features)\n",
        "\n",
        "x_train, y_train = mount_predictors(all_windows_with_features_train, features)\n",
        "x_test, y_test = mount_predictors(all_windows_with_features_test, features)\n",
        "\n",
        "# scaler = StandardScaler()\n",
        "# scaler.fit(x_train)\n",
        "\n",
        "# x_train = scaler.transform(x_train)\n",
        "# x_test = scaler.transform(x_test)\n"
      ],
      "metadata": {
        "colab": {
          "base_uri": "https://localhost:8080/"
        },
        "id": "Jnq43TIqLnCZ",
        "outputId": "f226a276-7cc5-4210-a4a9-693709434c82"
      },
      "execution_count": 50,
      "outputs": [
        {
          "output_type": "stream",
          "name": "stderr",
          "text": [
            "<ipython-input-20-cc8d8dd8c5bc>:27: DeprecationWarning: Conversion of an array with ndim > 0 to a scalar is deprecated, and will error in future. Ensure you extract a single element from your array before performing this operation. (Deprecated NumPy 1.25.)\n",
            "  repetitions[int(r_samples[index])-1]['first_index'] = index\n",
            "<ipython-input-20-cc8d8dd8c5bc>:31: DeprecationWarning: Conversion of an array with ndim > 0 to a scalar is deprecated, and will error in future. Ensure you extract a single element from your array before performing this operation. (Deprecated NumPy 1.25.)\n",
            "  repetitions[int(r_samples[index])-1]['last_index'] = index\n",
            "<ipython-input-20-cc8d8dd8c5bc>:19: DeprecationWarning: Conversion of an array with ndim > 0 to a scalar is deprecated, and will error in future. Ensure you extract a single element from your array before performing this operation. (Deprecated NumPy 1.25.)\n",
            "  repetitions[int(r_samples[index])-1]['last_index'] = index - 1\n"
          ]
        }
      ]
    },
    {
      "cell_type": "code",
      "source": [
        "scaler = StandardScaler()\n",
        "scaler.fit(x_train)\n",
        "\n",
        "x_train = scaler.transform(x_train)\n",
        "x_test = scaler.transform(x_test)"
      ],
      "metadata": {
        "id": "xQPUTd9wYfnb"
      },
      "execution_count": 76,
      "outputs": []
    },
    {
      "cell_type": "code",
      "source": [
        "n_neighbors=1\n",
        "\n",
        "knn_classifier_brute = KNeighborsClassifier(n_neighbors=n_neighbors, weights='distance', algorithm='brute')\n",
        "knn_classifier_ball = KNeighborsClassifier(n_neighbors=n_neighbors, weights='distance', algorithm='ball_tree')\n",
        "knn_classifier_kd = KNeighborsClassifier(n_neighbors=n_neighbors, weights='distance', algorithm='kd_tree')\n",
        "\n",
        "knn_classifier_brute.fit(x_train, y_train)\n",
        "knn_classifier_brute.predict(x_test)\n",
        "\n",
        "knn_classifier_ball.fit(x_train, y_train)\n",
        "knn_classifier_ball.predict(x_test)\n",
        "\n",
        "knn_classifier_kd.fit(x_train, y_train)\n",
        "knn_classifier_kd.predict(x_test)\n",
        "\n",
        "accuracy_brute = knn_classifier_brute.score(x_test, y_test) * 100\n",
        "accuracy_ball = knn_classifier_ball.score(x_test, y_test) * 100\n",
        "accuracy_kd = knn_classifier_kd.score(x_test, y_test) * 100\n",
        "\n",
        "print(\"KNN brute acurácia  = %.2f\" % accuracy_brute)\n",
        "print(\"KNN ball acurácia  = %.2f\" % accuracy_ball)\n",
        "print(\"KNN kd acurácia  = %.2f\" % accuracy_kd)"
      ],
      "metadata": {
        "colab": {
          "base_uri": "https://localhost:8080/"
        },
        "id": "OcqPYjdQU2Qq",
        "outputId": "158be52a-3990-442f-9ade-f840e97a3019"
      },
      "execution_count": 77,
      "outputs": [
        {
          "output_type": "stream",
          "name": "stdout",
          "text": [
            "KNN brute acurácia  = 77.78\n",
            "KNN ball acurácia  = 77.78\n",
            "KNN kd acurácia  = 77.78\n"
          ]
        }
      ]
    }
  ],
  "metadata": {
    "colab": {
      "provenance": [],
      "mount_file_id": "1F7u40mju836hMfgDysSmWFy570GZAaDS",
      "authorship_tag": "ABX9TyMdvcD+oApY72AdC6LU7LLx",
      "include_colab_link": true
    },
    "kernelspec": {
      "display_name": "Python 3",
      "name": "python3"
    },
    "language_info": {
      "name": "python"
    }
  },
  "nbformat": 4,
  "nbformat_minor": 0
}